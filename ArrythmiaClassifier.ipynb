{
  "nbformat": 4,
  "nbformat_minor": 0,
  "metadata": {
    "colab": {
      "provenance": [],
      "machine_shape": "hm",
      "collapsed_sections": []
    },
    "kernelspec": {
      "name": "python3",
      "display_name": "Python 3"
    },
    "language_info": {
      "name": "python"
    },
    "accelerator": "TPU"
  },
  "cells": [
    {
      "cell_type": "code",
      "source": [
        "!pip install wfdb==2.2.1"
      ],
      "metadata": {
        "id": "BRxq9GEumw0Z",
        "colab": {
          "base_uri": "https://localhost:8080/"
        },
        "outputId": "40c1b0a5-6513-4f4a-efdc-8cf7ca6537c3"
      },
      "execution_count": null,
      "outputs": [
        {
          "output_type": "stream",
          "name": "stdout",
          "text": [
            "Collecting wfdb==2.2.1\n",
            "  Downloading wfdb-2.2.1.tar.gz (94 kB)\n",
            "\u001b[K     |████████████████████████████████| 94 kB 1.5 MB/s \n",
            "\u001b[?25hCollecting nose>=1.3.7\n",
            "  Downloading nose-1.3.7-py3-none-any.whl (154 kB)\n",
            "\u001b[K     |████████████████████████████████| 154 kB 34.4 MB/s \n",
            "\u001b[?25hRequirement already satisfied: numpy>=1.11.0 in /usr/local/lib/python3.7/dist-packages (from wfdb==2.2.1) (1.19.5)\n",
            "Requirement already satisfied: matplotlib>=1.5.1 in /usr/local/lib/python3.7/dist-packages (from wfdb==2.2.1) (3.2.2)\n",
            "Requirement already satisfied: requests>=2.10.0 in /usr/local/lib/python3.7/dist-packages (from wfdb==2.2.1) (2.23.0)\n",
            "Requirement already satisfied: pandas>=0.19.1 in /usr/local/lib/python3.7/dist-packages (from wfdb==2.2.1) (1.3.5)\n",
            "Requirement already satisfied: scipy>=0.19.0 in /usr/local/lib/python3.7/dist-packages (from wfdb==2.2.1) (1.4.1)\n",
            "Requirement already satisfied: sklearn>=0.0 in /usr/local/lib/python3.7/dist-packages (from wfdb==2.2.1) (0.0)\n",
            "Requirement already satisfied: cycler>=0.10 in /usr/local/lib/python3.7/dist-packages (from matplotlib>=1.5.1->wfdb==2.2.1) (0.11.0)\n",
            "Requirement already satisfied: pyparsing!=2.0.4,!=2.1.2,!=2.1.6,>=2.0.1 in /usr/local/lib/python3.7/dist-packages (from matplotlib>=1.5.1->wfdb==2.2.1) (3.0.7)\n",
            "Requirement already satisfied: kiwisolver>=1.0.1 in /usr/local/lib/python3.7/dist-packages (from matplotlib>=1.5.1->wfdb==2.2.1) (1.3.2)\n",
            "Requirement already satisfied: python-dateutil>=2.1 in /usr/local/lib/python3.7/dist-packages (from matplotlib>=1.5.1->wfdb==2.2.1) (2.8.2)\n",
            "Requirement already satisfied: pytz>=2017.3 in /usr/local/lib/python3.7/dist-packages (from pandas>=0.19.1->wfdb==2.2.1) (2018.9)\n",
            "Requirement already satisfied: six>=1.5 in /usr/local/lib/python3.7/dist-packages (from python-dateutil>=2.1->matplotlib>=1.5.1->wfdb==2.2.1) (1.15.0)\n",
            "Requirement already satisfied: idna<3,>=2.5 in /usr/local/lib/python3.7/dist-packages (from requests>=2.10.0->wfdb==2.2.1) (2.10)\n",
            "Requirement already satisfied: certifi>=2017.4.17 in /usr/local/lib/python3.7/dist-packages (from requests>=2.10.0->wfdb==2.2.1) (2021.10.8)\n",
            "Requirement already satisfied: chardet<4,>=3.0.2 in /usr/local/lib/python3.7/dist-packages (from requests>=2.10.0->wfdb==2.2.1) (3.0.4)\n",
            "Requirement already satisfied: urllib3!=1.25.0,!=1.25.1,<1.26,>=1.21.1 in /usr/local/lib/python3.7/dist-packages (from requests>=2.10.0->wfdb==2.2.1) (1.24.3)\n",
            "Requirement already satisfied: scikit-learn in /usr/local/lib/python3.7/dist-packages (from sklearn>=0.0->wfdb==2.2.1) (1.0.2)\n",
            "Requirement already satisfied: threadpoolctl>=2.0.0 in /usr/local/lib/python3.7/dist-packages (from scikit-learn->sklearn>=0.0->wfdb==2.2.1) (3.0.0)\n",
            "Requirement already satisfied: joblib>=0.11 in /usr/local/lib/python3.7/dist-packages (from scikit-learn->sklearn>=0.0->wfdb==2.2.1) (1.1.0)\n",
            "Building wheels for collected packages: wfdb\n",
            "  Building wheel for wfdb (setup.py) ... \u001b[?25l\u001b[?25hdone\n",
            "  Created wheel for wfdb: filename=wfdb-2.2.1-py3-none-any.whl size=100380 sha256=56c4afb3e5976699213085788af66e65264adfd83923490ae0666dbe30e04547\n",
            "  Stored in directory: /root/.cache/pip/wheels/6d/28/c0/06a7ac9d179f38f37ad236c5d78da6e11fa3005152dcfd0d4f\n",
            "Successfully built wfdb\n",
            "Installing collected packages: nose, wfdb\n",
            "Successfully installed nose-1.3.7 wfdb-2.2.1\n"
          ]
        }
      ]
    },
    {
      "cell_type": "code",
      "source": [
        "from scipy.io import loadmat\n",
        "from sklearn.impute import SimpleImputer\n",
        "from sklearn.ensemble import RandomForestClassifier\n",
        "import numpy as np\n",
        "from scipy.signal import butter, lfilter, freqz, filtfilt\n",
        "from scipy import stats\n",
        "import os, sys\n",
        "\n",
        "import pandas as pd\n",
        "import matplotlib.pyplot as plt\n",
        "import seaborn as sns\n",
        "import wfdb\n",
        "import tarfile\n",
        "from sklearn.preprocessing import MultiLabelBinarizer\n",
        "from sklearn.model_selection import StratifiedKFold\n",
        "from keras.preprocessing.sequence import pad_sequences\n",
        "import math\n",
        "import warnings\n",
        "import os\n",
        "from numpy import hstack\n",
        "from numpy import zeros\n",
        "from numpy import ones\n",
        "from numpy.random import rand\n",
        "from numpy.random import randn\n",
        "from scipy import signal\n",
        "import gc\n",
        "from scipy.signal import butter, lfilter, freqz, filtfilt\n",
        "from scipy.fft import fft, ifft, fftfreq, fftshift\n",
        "from pywt import swt, cwt\n",
        "import scipy.misc\n",
        "from scipy.signal import welch\n",
        "from scipy.signal.lti_conversion import cont2discrete\n",
        "import tensorflow as tf\n",
        "from tensorflow.keras import layers\n",
        "from tensorflow.keras import Model, Sequential\n",
        "from tensorflow.keras.optimizers import Adam, SGD\n",
        "from tensorflow.keras.utils import plot_model\n",
        "from sklearn.metrics import confusion_matrix, f1_score, accuracy_score, precision_recall_fscore_support\n",
        "from scipy.signal import butter, lfilter, freqz, filtfilt\n",
        "from pywt import swt, cwt\n",
        "import scipy.misc\n",
        "from scipy.signal import welch\n",
        "import tensorflow as tf\n",
        "import keras\n",
        "from tensorflow import keras\n",
        "import tensorflow.keras.backend as K\n",
        "from keras.models import Sequential,Model\n",
        "from keras.layers import Dense, Dropout, Flatten, Conv2D, MaxPool2D, Input, AvgPool2D, Reshape, BatchNormalization, Bidirectional, LSTM\n",
        "from keras.layers import Activation, GlobalMaxPool2D, SpatialDropout2D, GlobalAvgPool2D, SeparableConv1D\n",
        "from keras.layers import AvgPool1D, Conv1D, GlobalMaxPool1D, MaxPool1D, SpatialDropout1D, GlobalAvgPool1D, Add, Concatenate\n",
        "from keras.layers.convolutional import Conv1D, MaxPooling1D, MaxPooling2D\n",
        "from tensorflow.keras.optimizers import Adam, SGD\n",
        "from keras.utils import np_utils\n",
        "from sklearn.preprocessing import StandardScaler                                                      \n",
        "from sklearn.preprocessing import LabelEncoder\n",
        "from sklearn.metrics import confusion_matrix \n",
        "from scipy import signal\n",
        "import pickle as pkl\n",
        "from sklearn.model_selection import train_test_split, StratifiedKFold, KFold\n",
        "from sklearn.metrics import confusion_matrix, f1_score, accuracy_score, precision_recall_fscore_support\n",
        "import gc"
      ],
      "metadata": {
        "id": "SnrjhX1xjdw7"
      },
      "execution_count": null,
      "outputs": []
    },
    {
      "cell_type": "code",
      "source": [
        "from google.colab import drive\n",
        "drive.mount('/content/drive/')"
      ],
      "metadata": {
        "colab": {
          "base_uri": "https://localhost:8080/"
        },
        "id": "NGGhtLtpjgYp",
        "outputId": "fb21d9ab-a15a-4ac5-a9a2-fb225436fd16"
      },
      "execution_count": null,
      "outputs": [
        {
          "output_type": "stream",
          "name": "stdout",
          "text": [
            "Mounted at /content/drive/\n"
          ]
        }
      ]
    },
    {
      "cell_type": "code",
      "source": [
        "# Load data with resampling at 250Hz and samples having equal length of 60 sec.\n",
        "window_size = 220\n",
        "skip = window_size\n",
        "no_windows = int(15000/window_size)\n",
        "no_leads = 12\n",
        "def load_data_labels(input_directory, output_directory):\n",
        "  print('Loading data...')\n",
        "\n",
        "  header_files = []\n",
        "  for f in os.listdir(input_directory):\n",
        "    g = os.path.join(input_directory, f)\n",
        "    if not f.lower().startswith('.') and f.lower().endswith('hea') and not f.lower().endswith(').hea') and os.path.isfile(g):\n",
        "      header_files.append(g)\n",
        "\n",
        "  classes = get_classes(input_directory, header_files)\n",
        "  num_classes = len(classes)\n",
        "  num_files = len(header_files)\n",
        "  recordings = list()\n",
        "  headers = list()\n",
        "\n",
        "  # Label Extraction from header files\n",
        "  print('Extracting labels...')\n",
        "  labels = list()\n",
        "  for i in range(num_files):\n",
        "    recording, header = load_challenge_data(header_files[i])\n",
        "    recording = resampling(recording)\n",
        "    recording = pad_sequences(recording, maxlen=int(no_windows*window_size), truncating='post',padding=\"post\")\n",
        "    #print(recording.shape)\n",
        "    for l in header:\n",
        "      if l.startswith('#Dx:'):\n",
        "        labels_act = np.zeros(num_classes)\n",
        "        arrs = l.strip().split(' ')\n",
        "        for arr in arrs[1].split(','):\n",
        "          class_index = classes.index(arr.rstrip()) # Only use first positive index\n",
        "          labels_act[class_index] = 1\n",
        "    if labels_act.sum() == 1:\n",
        "        labels.append(labels_act)\n",
        "        #recordings.append(recording)\n",
        "        temp = []\n",
        "        for j in range(12):\n",
        "            start = 0\n",
        "            while start + window_size <= recording.shape[1]:\n",
        "                temp.append(np.abs(fftshift(fft(recording[j, start:start+window_size]))))\n",
        "                start += skip\n",
        "        temp = np.array(temp, dtype=np.float32)\n",
        "        recordings.append(np.reshape(temp, [no_leads,no_windows,window_size]))\n",
        "\n",
        "    #headers.append(header)\n",
        "  gc.collect()\n",
        "  recordings = np.array(recordings, dtype=np.float32).reshape([-1, no_leads, no_windows, window_size, 1])\n",
        "  labels = np.array(labels)\n",
        "  return recordings, labels\n",
        "\n",
        "# Load challenge data.\n",
        "def load_challenge_data(header_file):\n",
        "  with open(header_file, 'r') as f:\n",
        "    header = f.readlines()\n",
        "  mat_file = header_file.replace('.hea', '.mat')\n",
        "  x = loadmat(mat_file)\n",
        "  recording = np.asarray(x['val'], dtype=np.float64)\n",
        "  return recording, header\n",
        "\n",
        "# Need to understand\n",
        "# Find unique classes.\n",
        "def get_classes(input_directory, filenames):\n",
        "  classes = set()\n",
        "  for filename in filenames:\n",
        "    with open(filename, 'r') as f:\n",
        "      for l in f:\n",
        "        if l.startswith('#Dx'):\n",
        "          tmp = l.split(': ')[1].split(',')\n",
        "          for c in tmp:\n",
        "            classes.add(c.strip())\n",
        "  return sorted(classes)\n",
        "\n",
        "#resampling\n",
        "def resampling(X):\n",
        "  Y = []\n",
        "  for i in range(X.shape[0]):\n",
        "    Y.append(signal.resample(X[i,:], int((len(X[i,:])/500.0)*250)+1)) # Number of samples to downsample\n",
        "  Y = np.reshape(Y,[12,-1])\n",
        "  return Y"
      ],
      "metadata": {
        "id": "OrHrgejAjhDx"
      },
      "execution_count": null,
      "outputs": []
    },
    {
      "cell_type": "code",
      "source": [
        "input_directory = '/content/drive/MyDrive/China Physiological Signal Challenge 2018/Training_WFDB/'\n",
        "output_directory = '/content/drive/MyDrive/China Physiological Signal Challenge 2018/Output_Directory/'\n",
        "\n",
        "[recordings, labels] = load_data_labels(input_directory, output_directory) #recordings and labels both are in list format\n",
        "\n",
        "print('Done.')\n",
        "#print(recordings.shape)"
      ],
      "metadata": {
        "colab": {
          "base_uri": "https://localhost:8080/"
        },
        "id": "FtXXwBtIjtER",
        "outputId": "39df5312-5800-4e7f-8df5-99532930657f"
      },
      "execution_count": null,
      "outputs": [
        {
          "output_type": "stream",
          "name": "stdout",
          "text": [
            "Loading data...\n",
            "Extracting labels...\n",
            "Done.\n"
          ]
        }
      ]
    },
    {
      "cell_type": "code",
      "source": [
        "recordings.shape"
      ],
      "metadata": {
        "colab": {
          "base_uri": "https://localhost:8080/"
        },
        "id": "EJ6pchW3rIGe",
        "outputId": "adb12b82-4da1-4f4c-821e-1f512ce4eef8"
      },
      "execution_count": null,
      "outputs": [
        {
          "output_type": "execute_result",
          "data": {
            "text/plain": [
              "(6401, 12, 68, 220, 1)"
            ]
          },
          "metadata": {},
          "execution_count": 20
        }
      ]
    },
    {
      "cell_type": "code",
      "source": [
        "labels[5000, :]"
      ],
      "metadata": {
        "colab": {
          "base_uri": "https://localhost:8080/"
        },
        "id": "ELYWYWkZHj9V",
        "outputId": "79b87394-0946-4a9d-9720-ec3fbece7604"
      },
      "execution_count": null,
      "outputs": [
        {
          "output_type": "execute_result",
          "data": {
            "text/plain": [
              "array([0., 1., 0., 0., 0., 0., 0., 0., 0.])"
            ]
          },
          "metadata": {},
          "execution_count": 9
        }
      ]
    },
    {
      "cell_type": "code",
      "source": [
        "X_train, X_test, y_train, y_test = train_test_split(recordings,labels, test_size=0.05, shuffle=True, random_state=5)"
      ],
      "metadata": {
        "id": "5hg28S88cnDC"
      },
      "execution_count": null,
      "outputs": []
    },
    {
      "cell_type": "code",
      "source": [
        "print(X_train.shape)"
      ],
      "metadata": {
        "colab": {
          "base_uri": "https://localhost:8080/"
        },
        "id": "xqzW7qSiuCWD",
        "outputId": "0573d50f-d80a-4db2-8957-0d95419f5526"
      },
      "execution_count": null,
      "outputs": [
        {
          "output_type": "stream",
          "name": "stdout",
          "text": [
            "(6080, 12, 68, 220, 1)\n"
          ]
        }
      ]
    },
    {
      "cell_type": "code",
      "source": [
        "from tensorflow.python.keras.activations import elu\n",
        "class Arrithmia_classifier():\n",
        "\n",
        "    def __init__(self):\n",
        "\n",
        "        self.channels = no_leads\n",
        "        self.times = no_windows\n",
        "        self.freqs = window_size\n",
        "        self.samples= X_train.shape[0]\n",
        "        self.batch_size = 64\n",
        "\n",
        "\n",
        "        #create 12 lead's convolutional block\n",
        "        self.lead1 = self.build_channel_block()\n",
        "        self.lead2 = self.build_channel_block()\n",
        "        self.lead3 = self.build_channel_block()\n",
        "        self.lead4 = self.build_channel_block()\n",
        "        self.lead5 = self.build_channel_block()\n",
        "        self.lead6 = self.build_channel_block()\n",
        "        self.lead7 = self.build_channel_block()\n",
        "        self.lead8 = self.build_channel_block()\n",
        "        self.lead9 = self.build_channel_block()\n",
        "        self.lead10 = self.build_channel_block()\n",
        "        self.lead11 = self.build_channel_block()\n",
        "        self.lead12 = self.build_channel_block()\n",
        "\n",
        "        inp1 = layers.Input((self.times,self.freqs,1,))\n",
        "        inp2 = layers.Input((self.times,self.freqs,1,))\n",
        "        inp3 = layers.Input((self.times,self.freqs,1,))\n",
        "        inp4 = layers.Input((self.times,self.freqs,1,))\n",
        "        inp5 = layers.Input((self.times,self.freqs,1,))\n",
        "        inp6 = layers.Input((self.times,self.freqs,1,))\n",
        "        inp7 = layers.Input((self.times,self.freqs,1,))\n",
        "        inp8 = layers.Input((self.times,self.freqs,1,))\n",
        "        inp9 = layers.Input((self.times,self.freqs,1,))\n",
        "        inp10 = layers.Input((self.times,self.freqs,1,))\n",
        "        inp11 = layers.Input((self.times,self.freqs,1,))\n",
        "        inp12 = layers.Input((self.times,self.freqs,1,))\n",
        "\n",
        "        out1 = self.lead1(inp1)\n",
        "        out2 = self.lead2(inp2)\n",
        "        out3 = self.lead3(inp3)\n",
        "        out4 = self.lead4(inp4)\n",
        "        out5 = self.lead5(inp5)\n",
        "        out6 = self.lead6(inp6)\n",
        "        out7 = self.lead7(inp7)\n",
        "        out8 = self.lead8(inp8)\n",
        "        out9 = self.lead9(inp9)\n",
        "        out10 = self.lead10(inp10)\n",
        "        out11 = self.lead11(inp11)\n",
        "        out12 = self.lead12(inp12)\n",
        "\n",
        "        ch_out1 = self.channel_out(out1)\n",
        "        ch_out2 = self.channel_out(out2)\n",
        "        ch_out3 = self.channel_out(out3)\n",
        "        ch_out4 = self.channel_out(out4)\n",
        "        ch_out5 = self.channel_out(out5)\n",
        "        ch_out6 = self.channel_out(out6)\n",
        "        ch_out7 = self.channel_out(out7)\n",
        "        ch_out8 = self.channel_out(out8)\n",
        "        ch_out9 = self.channel_out(out9)\n",
        "        ch_out10 = self.channel_out(out10)\n",
        "        ch_out11 = self.channel_out(out11)\n",
        "        ch_out12 = self.channel_out(out12)\n",
        "\n",
        "\n",
        "        merged= layers.Concatenate()([out1,out2,out3,out4,out5,out6,out7,out8,out9,out10,out11,out12])\n",
        "        #final_out = layers.Attention()([merged,merged])#layers.MultiHeadAttention(num_heads=3, key_dim=2)(merged,merged)\n",
        "        final_out= layers.Dense(256,activation='elu')(merged)\n",
        "        final_out= layers.Dropout(0.3)(final_out)\n",
        "        final_out= layers.Dense(128,activation='tanh')(final_out)\n",
        "        final_out= layers.Dropout(0.3)(final_out)\n",
        "        final_out= layers.Dense(32,activation='relu')(final_out)\n",
        "        final_out= layers.Dropout(0.3)(final_out)\n",
        "        final_out= layers.Dense(9,activation='softmax')(final_out)\n",
        "\n",
        "        self.main = Model(inputs=[inp1,inp2,inp3,inp4,inp5,inp6,inp7,inp8,inp9,\n",
        "                                  inp10,inp11,inp12],outputs=[ch_out1,ch_out2,\n",
        "                                                              ch_out3,ch_out4,\n",
        "                                                              ch_out5,ch_out6,\n",
        "                                                              ch_out7,ch_out8,\n",
        "                                                              ch_out9,ch_out10,\n",
        "                                                              ch_out11,ch_out12,\n",
        "                                                              final_out])\n",
        "        opt = Adam(learning_rate=1e-04)\n",
        "        self.main.compile(loss=['categorical_crossentropy','categorical_crossentropy',\n",
        "                                'categorical_crossentropy','categorical_crossentropy',\n",
        "                                'categorical_crossentropy','categorical_crossentropy',\n",
        "                                'categorical_crossentropy','categorical_crossentropy',\n",
        "                                'categorical_crossentropy','categorical_crossentropy',\n",
        "                                'categorical_crossentropy','categorical_crossentropy',\n",
        "                                'categorical_crossentropy']\n",
        "                          ,loss_weights= [1,1,1,1,1,1,1,1,1,1,1,1,10],optimizer= opt ,metrics='accuracy')\n",
        "\n",
        "\n",
        "\n",
        "    def build_channel_block(self):\n",
        "\n",
        "        ecg_sig = layers.Input((self.times,self.freqs,1,))\n",
        "\n",
        "        #beginning of conv block\n",
        "        conv_out = layers.Conv2D(filters = 4,kernel_size=3,padding='valid', activation='elu')(ecg_sig)\n",
        "        maxpool_out = layers.MaxPool2D(pool_size=2)(conv_out)\n",
        "        batchnorm_out = layers.BatchNormalization()(maxpool_out)\n",
        "\n",
        "        conv_out = layers.Conv2D(filters = 8,kernel_size=5,padding='valid', activation='elu')(maxpool_out)\n",
        "        maxpool_out = layers.MaxPool2D(pool_size=2)(conv_out)\n",
        "        batchnorm_out = layers.BatchNormalization()(maxpool_out)\n",
        "\n",
        "        conv_out = layers.Conv2D(filters = 16,kernel_size=7,padding='valid', activation='elu')(maxpool_out)\n",
        "        maxpool_out = layers.MaxPool2D(pool_size=2)(conv_out)\n",
        "        batchnorm_out = layers.BatchNormalization()(maxpool_out)\n",
        "\n",
        "        conv_out = layers.Conv2D(filters = 32,kernel_size=3,padding='valid', activation='elu')(maxpool_out)\n",
        "        #maxpool_out = layers.MaxPool2D(pool_size=2)(conv_out)\n",
        "        #batchnorm_out = layers.BatchNormalization()(maxpool_out)\n",
        "\n",
        "        reshaped = layers.Reshape((conv_out.shape[1]*conv_out.shape[2],conv_out.shape[3]))(conv_out)\n",
        "\n",
        "        conv_out = layers.Conv1D(filters = 32,kernel_size=7,padding='valid', activation='elu')(reshaped)\n",
        "        maxpool_out = layers.MaxPool1D(pool_size=2)(conv_out)\n",
        "        conv_out = layers.Conv1D(filters = 32,kernel_size=5,padding='valid', activation='elu')(maxpool_out)\n",
        "        maxpool_out = layers.MaxPool1D(pool_size=2)(conv_out)\n",
        "        conv_out = layers.Conv1D(filters = 32,kernel_size=3,padding='valid', activation='elu')(maxpool_out)\n",
        "        maxpool_out = layers.MaxPool1D(pool_size=2)(conv_out)\n",
        "        \n",
        "        drop_out = layers.Dropout(0.1)(maxpool_out)\n",
        "        batchnorm_out = layers.BatchNormalization()(drop_out)\n",
        "        #maxpool_out = layers.MaxPool2D(pool_size=2)(batchnorm_out)\n",
        "        #batchnorm_out = layers.BatchNormalization()(maxpool_out)\n",
        "\n",
        "        flat  = layers.Flatten()(batchnorm_out)\n",
        "\n",
        "        channel_block = Model(inputs=ecg_sig,outputs= flat)\n",
        "\n",
        "        return channel_block\n",
        "\n",
        "    def channel_out(self,out):\n",
        "        out = layers.Dense(32,activation='relu')(out)\n",
        "        ch_out = layers.Dense(9,activation='softmax')(out)\n",
        "        return ch_out"
      ],
      "metadata": {
        "id": "TuZJHD-kw2fc"
      },
      "execution_count": null,
      "outputs": []
    },
    {
      "cell_type": "code",
      "source": [
        "obj1= Arrithmia_classifier()\n",
        "a = obj1.main"
      ],
      "metadata": {
        "id": "j2rJfs9F1MQL"
      },
      "execution_count": null,
      "outputs": []
    },
    {
      "cell_type": "code",
      "source": [
        "b = obj1.build_channel_block()"
      ],
      "metadata": {
        "id": "oB-d-EWhKm1V"
      },
      "execution_count": null,
      "outputs": []
    },
    {
      "cell_type": "code",
      "source": [
        "b.summary()"
      ],
      "metadata": {
        "id": "CHivRbWHKr6W"
      },
      "execution_count": null,
      "outputs": []
    },
    {
      "cell_type": "code",
      "source": [
        "a.summary()"
      ],
      "metadata": {
        "id": "PP_nPagK1NCL"
      },
      "execution_count": null,
      "outputs": []
    },
    {
      "cell_type": "code",
      "source": [
        "arr = []\n",
        "for i in range(12):\n",
        "    arr.append(X_train[:,i,:,:,:])"
      ],
      "metadata": {
        "id": "r3d5Paku3Wgj"
      },
      "execution_count": null,
      "outputs": []
    },
    {
      "cell_type": "code",
      "source": [
        "a.fit(arr,[y_train,y_train,y_train,y_train,y_train,y_train,y_train,y_train,y_train,y_train,y_train,y_train,y_train]\n",
        "      ,verbose=1,epochs= 150,batch_size= 128, validation_split= 0.05, shuffle=True)"
      ],
      "metadata": {
        "id": "F69PTbOmZVqd"
      },
      "execution_count": null,
      "outputs": []
    },
    {
      "cell_type": "code",
      "source": [
        "a.fit(arr,[y_train,y_train,y_train,y_train,y_train,y_train,y_train,y_train,y_train,y_train,y_train,y_train,y_train]\n",
        "      ,verbose=1,epochs= 70,batch_size= 128, validation_split= 0.05, shuffle=True)"
      ],
      "metadata": {
        "id": "xUXOlBwPuxWk"
      },
      "execution_count": null,
      "outputs": []
    },
    {
      "cell_type": "code",
      "source": [
        "a.fit(arr,[y_train,y_train,y_train,y_train,y_train,y_train,y_train,y_train,y_train,y_train,y_train,y_train,y_train]\n",
        "      ,verbose=1,epochs= 150,batch_size= 128, validation_split= 0.05, shuffle=True)"
      ],
      "metadata": {
        "id": "9zmOXns53qYs"
      },
      "execution_count": null,
      "outputs": []
    },
    {
      "cell_type": "code",
      "source": [
        "arr_test = []\n",
        "for i in range(12):\n",
        "    arr_test.append(X_test[:,i,:,:,:])\n",
        "del X_train, X_test"
      ],
      "metadata": {
        "id": "GmffHub7YSo-"
      },
      "execution_count": null,
      "outputs": []
    },
    {
      "cell_type": "code",
      "source": [
        "from sklearn.metrics import confusion_matrix, f1_score, accuracy_score, precision_recall_fscore_support"
      ],
      "metadata": {
        "id": "Bi7LljIVX8MV"
      },
      "execution_count": null,
      "outputs": []
    },
    {
      "cell_type": "code",
      "source": [
        "acc = a.evaluate(arr_test, [y_test,y_test,y_test,y_test,y_test,y_test,y_test,y_test,y_test,y_test,y_test,y_test,y_test])\n",
        "pred = a.predict(arr_test)\n",
        "f1scr = f1_score(y_test.argmax(1), pred[12].argmax(1), average='macro')\n",
        "cnfsn = confusion_matrix(y_test.argmax(1), pred[12].argmax(1))\n",
        "print(\"Accuracy  : {}\".format(acc[26]))\n",
        "print(\"F1_Score  : {}\".format(f1scr))\n",
        "print(cnfsn)"
      ],
      "metadata": {
        "colab": {
          "base_uri": "https://localhost:8080/"
        },
        "id": "Aac5UFRJpeVv",
        "outputId": "34f95f5c-eb5f-4d8e-d9e8-e81cf845aff1"
      },
      "execution_count": null,
      "outputs": [
        {
          "output_type": "stream",
          "name": "stdout",
          "text": [
            "11/11 [==============================] - 1s 64ms/step - loss: 58.4704 - dense_169_loss: 2.0067 - dense_171_loss: 2.0603 - dense_173_loss: 2.2802 - dense_175_loss: 3.2143 - dense_177_loss: 2.0768 - dense_179_loss: 2.1814 - dense_181_loss: 1.8582 - dense_183_loss: 2.2214 - dense_185_loss: 2.0977 - dense_187_loss: 2.1448 - dense_189_loss: 2.2888 - dense_191_loss: 2.4349 - dense_195_loss: 3.1605 - dense_169_accuracy: 0.4486 - dense_171_accuracy: 0.4081 - dense_173_accuracy: 0.3520 - dense_175_accuracy: 0.2835 - dense_177_accuracy: 0.3863 - dense_179_accuracy: 0.4081 - dense_181_accuracy: 0.4611 - dense_183_accuracy: 0.3801 - dense_185_accuracy: 0.4050 - dense_187_accuracy: 0.3271 - dense_189_accuracy: 0.3178 - dense_191_accuracy: 0.3396 - dense_195_accuracy: 0.5919\n",
            "Accuracy  : 0.5919002890586853\n",
            "F1_Score  : 0.5904374148075467\n",
            "[[16  5  0  0  3  1  3  0  0]\n",
            " [ 4 33  0  0  6  5  2  1  3]\n",
            " [ 0  0  3  0  0  0  0  0  0]\n",
            " [ 0  1  0  5  2  0  2  0  2]\n",
            " [ 0  1  0  1 14  2  5  3  2]\n",
            " [ 0  7  0  0  4  6  4  3  2]\n",
            " [ 1  0  0  2  2  5 25  1  2]\n",
            " [ 2  3  0  0  4  3  4 29  3]\n",
            " [ 4  5  0  0  2  4  6  4 59]]\n"
          ]
        }
      ]
    },
    {
      "cell_type": "code",
      "source": [
        "acc = a.evaluate(arr_test, [y_test,y_test,y_test,y_test,y_test,y_test,y_test,y_test,y_test,y_test,y_test,y_test,y_test])\n",
        "pred = a.predict(arr_test)\n",
        "f1scr = f1_score(y_test.argmax(1), pred[12].argmax(1), average='macro')\n",
        "cnfsn = confusion_matrix(y_test.argmax(1), pred[12].argmax(1))\n",
        "print(\"Accuracy  : {}\".format(acc[26]))\n",
        "print(\"F1_Score  : {}\".format(f1scr))\n",
        "print(cnfsn)"
      ],
      "metadata": {
        "colab": {
          "base_uri": "https://localhost:8080/"
        },
        "id": "uSsW-dHjzhGm",
        "outputId": "0f23ae4f-6d6b-4aa6-bf4c-b9943cd410d6"
      },
      "execution_count": null,
      "outputs": [
        {
          "output_type": "stream",
          "name": "stdout",
          "text": [
            "11/11 [==============================] - 0s 31ms/step - loss: 26.3343 - dense_75_loss: 1.6063 - dense_76_loss: 1.7104 - dense_77_loss: 1.8597 - dense_78_loss: 1.5320 - dense_79_loss: 1.7562 - dense_80_loss: 1.9543 - dense_81_loss: 1.6083 - dense_82_loss: 1.7329 - dense_83_loss: 1.8612 - dense_84_loss: 1.9081 - dense_85_loss: 1.8659 - dense_86_loss: 1.9372 - dense_89_loss: 1.0004 - dense_75_accuracy: 0.4611 - dense_76_accuracy: 0.4330 - dense_77_accuracy: 0.3769 - dense_78_accuracy: 0.5358 - dense_79_accuracy: 0.4393 - dense_80_accuracy: 0.3925 - dense_81_accuracy: 0.4829 - dense_82_accuracy: 0.4206 - dense_83_accuracy: 0.4050 - dense_84_accuracy: 0.3427 - dense_85_accuracy: 0.3302 - dense_86_accuracy: 0.3614 - dense_89_accuracy: 0.7040\n",
            "Accuracy  : 0.704049825668335\n",
            "F1_Score  : 0.6457957256976864\n",
            "[[21  5  1  0  0  0  0  1  0]\n",
            " [ 3 42  0  0  5  0  1  2  1]\n",
            " [ 0  0  3  0  0  0  0  0  0]\n",
            " [ 0  1  0  3  3  2  3  0  0]\n",
            " [ 0  1  0  0 22  1  0  1  3]\n",
            " [ 1 12  0  1  1  5  5  0  1]\n",
            " [ 2  0  0  0  3  1 28  3  1]\n",
            " [ 3  2  0  0  2  1  5 33  2]\n",
            " [ 2  2  0  0  4  0  5  2 69]]\n"
          ]
        }
      ]
    },
    {
      "cell_type": "code",
      "source": [
        "c_matrix = []\n",
        "for i in range(9):\n",
        "    c_matrix.append(cnfsn[i, :]/(np.sum(cnfsn, axis=1))[i])\n",
        "c_matrix = np.array(c_matrix, dtype=np.float32).reshape([9,9])\n",
        "import seaborn as sns\n",
        "figure = plt.figure(figsize=(9, 9))\n",
        "sns.heatmap(c_matrix, annot=True,cmap=plt.cm.Blues)\n",
        "plt.tight_layout()\n",
        "plt.ylabel('True label')\n",
        "plt.xlabel('Predicted label')\n",
        "plt.show()"
      ],
      "metadata": {
        "colab": {
          "base_uri": "https://localhost:8080/",
          "height": 671
        },
        "id": "9-Vjch_p6RG_",
        "outputId": "19f2d362-2888-43d7-f47a-15b29e84d3c1"
      },
      "execution_count": null,
      "outputs": [
        {
          "output_type": "display_data",
          "data": {
            "image/png": "[encoded data removed]",
            "text/plain": [
              "<Figure size 648x648 with 2 Axes>"
            ]
          },
          "metadata": {
            "needs_background": "light"
          }
        }
      ]
    },
    {
      "cell_type": "code",
      "source": [
        "acc = a.evaluate(arr_test, [y_test,y_test,y_test,y_test,y_test,y_test,y_test,y_test,y_test,y_test,y_test,y_test,y_test])\n",
        "pred = a.predict(arr_test)\n",
        "f1scr = f1_score(y_test.argmax(1), pred[12].argmax(1), average='macro')\n",
        "cnfsn = confusion_matrix(y_test.argmax(1), pred[12].argmax(1))\n",
        "print(\"Accuracy  : {}\".format(acc[26]))\n",
        "print(\"F1_Score  : {}\".format(f1scr))\n",
        "print(cnfsn)"
      ],
      "metadata": {
        "colab": {
          "base_uri": "https://localhost:8080/"
        },
        "id": "6t_hJof8YEXe",
        "outputId": "4c18bf1f-5897-43a1-8ec4-18c97bf79ca5"
      },
      "execution_count": null,
      "outputs": [
        {
          "output_type": "stream",
          "name": "stdout",
          "text": [
            "11/11 [==============================] - 0s 27ms/step - loss: 37.9337 - dense_45_loss: 1.9226 - dense_46_loss: 1.9232 - dense_47_loss: 2.1792 - dense_48_loss: 1.7031 - dense_49_loss: 2.0326 - dense_50_loss: 2.0188 - dense_51_loss: 1.8934 - dense_52_loss: 1.8050 - dense_53_loss: 2.0861 - dense_54_loss: 2.0381 - dense_55_loss: 1.9094 - dense_56_loss: 1.9057 - dense_59_loss: 1.4517 - dense_45_accuracy: 0.4206 - dense_46_accuracy: 0.4268 - dense_47_accuracy: 0.3645 - dense_48_accuracy: 0.4766 - dense_49_accuracy: 0.3925 - dense_50_accuracy: 0.4019 - dense_51_accuracy: 0.4579 - dense_52_accuracy: 0.4517 - dense_53_accuracy: 0.4019 - dense_54_accuracy: 0.3489 - dense_55_accuracy: 0.3894 - dense_56_accuracy: 0.3738 - dense_59_accuracy: 0.6636\n",
            "Accuracy  : 0.663551390171051\n",
            "F1_Score  : 0.6493822667392021\n",
            "[[19  4  0  1  0  1  1  1  1]\n",
            " [ 2 35  1  0  4  4  2  2  4]\n",
            " [ 0  0  3  0  0  0  0  0  0]\n",
            " [ 0  0  0  7  0  1  2  2  0]\n",
            " [ 0  1  0  2 15  3  3  1  3]\n",
            " [ 2  4  0  0  2 11  4  1  2]\n",
            " [ 1  0  0  0  1  1 27  6  2]\n",
            " [ 3  2  0  0  1  3  8 27  4]\n",
            " [ 0  1  0  1  2  1  5  5 69]]\n"
          ]
        }
      ]
    },
    {
      "cell_type": "code",
      "source": [
        "c_matrix = []\n",
        "for i in range(9):\n",
        "    c_matrix.append(cnfsn[i, :]/(np.sum(cnfsn, axis=1))[i])\n",
        "c_matrix = np.array(c_matrix, dtype=np.float32).reshape([9,9])\n",
        "import seaborn as sns\n",
        "figure = plt.figure(figsize=(9, 9))\n",
        "sns.heatmap(c_matrix, annot=True,cmap=plt.cm.Blues)\n",
        "plt.tight_layout()\n",
        "plt.ylabel('True label')\n",
        "plt.xlabel('Predicted label')\n",
        "plt.show()"
      ],
      "metadata": {
        "colab": {
          "base_uri": "https://localhost:8080/",
          "height": 671
        },
        "id": "-BsScHFlZDD0",
        "outputId": "a5162fe9-1fbd-419a-ef4e-bdcbe3c5c776"
      },
      "execution_count": null,
      "outputs": [
        {
          "output_type": "display_data",
          "data": {
            "image/png": "[encoded data removed]",
            "text/plain": [
              "<Figure size 648x648 with 2 Axes>"
            ]
          },
          "metadata": {
            "needs_background": "light"
          }
        }
      ]
    },
    {
      "cell_type": "code",
      "source": [
        "class Arrithmia_classifier():\n",
        "\n",
        "    def __init__(self):\n",
        "\n",
        "        self.channels = 12\n",
        "        self.times = 122\n",
        "        self.freqs = 122\n",
        "        self.samples= 6080\n",
        "        self.batch_size = 64\n",
        "\n",
        "\n",
        "        #create 12 lead's convolutional block\n",
        "        self.lead1 = self.build_channel_block()\n",
        "        self.lead2 = self.build_channel_block()\n",
        "        self.lead3 = self.build_channel_block()\n",
        "        self.lead4 = self.build_channel_block()\n",
        "        self.lead5 = self.build_channel_block()\n",
        "        self.lead6 = self.build_channel_block()\n",
        "        self.lead7 = self.build_channel_block()\n",
        "        self.lead8 = self.build_channel_block()\n",
        "        self.lead9 = self.build_channel_block()\n",
        "        self.lead10 = self.build_channel_block()\n",
        "        self.lead11 = self.build_channel_block()\n",
        "        self.lead12 = self.build_channel_block()\n",
        "\n",
        "        inp1 = layers.Input((self.times,self.freqs,1,))\n",
        "        inp2 = layers.Input((self.times,self.freqs,1,))\n",
        "        inp3 = layers.Input((self.times,self.freqs,1,))\n",
        "        inp4 = layers.Input((self.times,self.freqs,1,))\n",
        "        inp5 = layers.Input((self.times,self.freqs,1,))\n",
        "        inp6 = layers.Input((self.times,self.freqs,1,))\n",
        "        inp7 = layers.Input((self.times,self.freqs,1,))\n",
        "        inp8 = layers.Input((self.times,self.freqs,1,))\n",
        "        inp9 = layers.Input((self.times,self.freqs,1,))\n",
        "        inp10 = layers.Input((self.times,self.freqs,1,))\n",
        "        inp11 = layers.Input((self.times,self.freqs,1,))\n",
        "        inp12 = layers.Input((self.times,self.freqs,1,))\n",
        "\n",
        "        out1 = self.lead1(inp1)\n",
        "        out2 = self.lead2(inp2)\n",
        "        out3 = self.lead3(inp3)\n",
        "        out4 = self.lead4(inp4)\n",
        "        out5 = self.lead5(inp5)\n",
        "        out6 = self.lead6(inp6)\n",
        "        out7 = self.lead7(inp7)\n",
        "        out8 = self.lead8(inp8)\n",
        "        out9 = self.lead9(inp9)\n",
        "        out10 = self.lead10(inp10)\n",
        "        out11 = self.lead11(inp11)\n",
        "        out12 = self.lead12(inp12)\n",
        "\n",
        "        ch_out1 = self.channel_out(out1)\n",
        "        ch_out2 = self.channel_out(out2)\n",
        "        ch_out3 = self.channel_out(out3)\n",
        "        ch_out4 = self.channel_out(out4)\n",
        "        ch_out5 = self.channel_out(out5)\n",
        "        ch_out6 = self.channel_out(out6)\n",
        "        ch_out7 = self.channel_out(out7)\n",
        "        ch_out8 = self.channel_out(out8)\n",
        "        ch_out9 = self.channel_out(out9)\n",
        "        ch_out10 = self.channel_out(out10)\n",
        "        ch_out11 = self.channel_out(out11)\n",
        "        ch_out12 = self.channel_out(out12)\n",
        "\n",
        "\n",
        "        merged= layers.Concatenate()([out1,out2,out3,out4,out5,out6,out7,out8,out9,out10,out11,out12])\n",
        "        #final_out = layers.Attention()([merged,merged])#layers.MultiHeadAttention(num_heads=3, key_dim=2)(merged,merged)\n",
        "        #final_out= layers.Dense(256,activation='tanh')(final_out)\n",
        "        final_out= layers.Dropout(0.3)(merged)\n",
        "        final_out= layers.Dense(128,activation='tanh')(final_out)\n",
        "        final_out= layers.Dropout(0.3)(final_out)\n",
        "        final_out= layers.Dense(32,activation='relu')(final_out)\n",
        "        final_out= layers.Dropout(0.3)(final_out)\n",
        "        final_out= layers.Dense(9,activation='softmax')(final_out)\n",
        "\n",
        "        self.main = Model(inputs=[inp1,inp2,inp3,inp4,inp5,inp6,inp7,inp8,inp9,inp10,inp11,inp12],outputs=[ch_out1,ch_out2,ch_out3,ch_out4,ch_out5,ch_out6,ch_out7,ch_out8,ch_out9,ch_out10,ch_out11,ch_out12,final_out])\n",
        "        opt = Adam(learning_rate=1e-04)\n",
        "        self.main.compile(loss=['categorical_crossentropy','categorical_crossentropy','categorical_crossentropy','categorical_crossentropy','categorical_crossentropy','categorical_crossentropy','categorical_crossentropy','categorical_crossentropy','categorical_crossentropy','categorical_crossentropy','categorical_crossentropy','categorical_crossentropy','categorical_crossentropy']\n",
        "                            ,loss_weights= [1,1,1,1,1,1,1,1,1,1,1,1,5],optimizer= opt ,metrics='accuracy')\n",
        "\n",
        "\n",
        "\n",
        "    def build_channel_block(self):\n",
        "\n",
        "        ecg_sig = layers.Input((self.times,self.freqs,1,))\n",
        "\n",
        "        #beginning of conv block\n",
        "        conv_out = layers.Conv2D(filters = 2,kernel_size=3,padding='same', activation='elu')(ecg_sig)\n",
        "        conv_out = layers.Conv2D(filters = 2,kernel_size=3,padding='same', activation='elu')(conv_out)\n",
        "        conv_out = layers.Conv2D(filters = 2,kernel_size=3,padding='same', activation='elu')(conv_out)\n",
        "        maxpool_out = layers.MaxPool2D(pool_size=2)(conv_out)\n",
        "        batchnorm_out = layers.BatchNormalization()(maxpool_out)\n",
        "\n",
        "        conv_out = layers.Conv2D(filters = 4,kernel_size=5,padding='same', activation='elu')(maxpool_out)\n",
        "        conv_out = layers.Conv2D(filters = 4,kernel_size=5,padding='same', activation='elu')(conv_out)\n",
        "        conv_out = layers.Conv2D(filters = 4,kernel_size=5,padding='same', activation='elu')(conv_out)\n",
        "        maxpool_out = layers.MaxPool2D(pool_size=2)(conv_out)\n",
        "        batchnorm_out = layers.BatchNormalization()(maxpool_out)\n",
        "        drop_out = layers.Dropout(0.2)(batchnorm_out)\n",
        "\n",
        "        conv_out = layers.Conv2D(filters = 8,kernel_size=7,padding='same', activation='elu')(maxpool_out)\n",
        "        conv_out = layers.Conv2D(filters = 8,kernel_size=7,padding='same', activation='elu')(conv_out)\n",
        "        conv_out = layers.Conv2D(filters = 8,kernel_size=7,padding='same', activation='elu')(conv_out)\n",
        "        maxpool_out = layers.MaxPool2D(pool_size=2)(conv_out)\n",
        "        batchnorm_out = layers.BatchNormalization()(maxpool_out)\n",
        "        drop_out = layers.Dropout(0.2)(batchnorm_out)\n",
        "\n",
        "        conv_out = layers.Conv2D(filters = 16,kernel_size=9,padding='same', activation='elu')(maxpool_out)\n",
        "        conv_out = layers.Conv2D(filters = 16,kernel_size=9,padding='same', activation='elu')(conv_out)\n",
        "        conv_out = layers.Conv2D(filters = 16,kernel_size=9,padding='same', activation='elu')(conv_out)\n",
        "        maxpool_out = layers.MaxPool2D(pool_size=2)(conv_out)\n",
        "        batchnorm_out = layers.BatchNormalization()(maxpool_out)\n",
        "        drop_out = layers.Dropout(0.2)(batchnorm_out)\n",
        "\n",
        "        conv_out = layers.Conv2D(filters = 32,kernel_size=5,padding='same', activation='elu')(maxpool_out)\n",
        "        conv_out = layers.Conv2D(filters = 32,kernel_size=5,padding='same', activation='elu')(conv_out)\n",
        "        conv_out = layers.Conv2D(filters = 32,kernel_size=5,padding='valid', activation='elu')(conv_out)\n",
        "        maxpool_out = layers.MaxPool2D(pool_size=2)(conv_out)\n",
        "        batchnorm_out = layers.BatchNormalization()(maxpool_out)\n",
        "        drop_out = layers.Dropout(0.2)(batchnorm_out)\n",
        "        #globalpool_out = layers.GlobalAvgPool2D()(conv_out)\n",
        "        #batchnorm_out = layers.BatchNormalization()(drop_out)\n",
        "        #maxpool_out = layers.MaxPool2D(pool_size=2)(batchnorm_out)\n",
        "        #batchnorm_out = layers.BatchNormalization()(maxpool_out)\n",
        "\n",
        "        flat  = layers.Flatten()(batchnorm_out)\n",
        "\n",
        "        channel_block = Model(inputs=ecg_sig,outputs= flat)\n",
        "\n",
        "        return channel_block\n",
        "\n",
        "    def channel_out(self,out):\n",
        "        ch_out = layers.Dense(9,activation='softmax')(out)\n",
        "        return ch_out"
      ],
      "metadata": {
        "id": "bcVRF4sChtpu"
      },
      "execution_count": null,
      "outputs": []
    }
  ]
}